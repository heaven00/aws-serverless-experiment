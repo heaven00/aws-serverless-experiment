{
 "cells": [
  {
   "cell_type": "code",
   "execution_count": 1,
   "id": "c5814f1d-3e3b-4776-8484-3178d9bf3d04",
   "metadata": {},
   "outputs": [],
   "source": [
    "import pandas as pd"
   ]
  },
  {
   "cell_type": "code",
   "execution_count": 2,
   "id": "13cb0f7a-2bd0-44e2-b034-1d3b5eaf18ca",
   "metadata": {},
   "outputs": [
    {
     "data": {
      "text/html": [
       "<div>\n",
       "<style scoped>\n",
       "    .dataframe tbody tr th:only-of-type {\n",
       "        vertical-align: middle;\n",
       "    }\n",
       "\n",
       "    .dataframe tbody tr th {\n",
       "        vertical-align: top;\n",
       "    }\n",
       "\n",
       "    .dataframe thead th {\n",
       "        text-align: right;\n",
       "    }\n",
       "</style>\n",
       "<table border=\"1\" class=\"dataframe\">\n",
       "  <thead>\n",
       "    <tr style=\"text-align: right;\">\n",
       "      <th></th>\n",
       "      <th>user_id</th>\n",
       "      <th>transaction_id</th>\n",
       "      <th>timestamp</th>\n",
       "      <th>amount</th>\n",
       "      <th>device_type</th>\n",
       "      <th>location</th>\n",
       "      <th>is_vpn</th>\n",
       "      <th>fraud</th>\n",
       "    </tr>\n",
       "  </thead>\n",
       "  <tbody>\n",
       "    <tr>\n",
       "      <th>0</th>\n",
       "      <td>U47935</td>\n",
       "      <td>T97D7AE2A</td>\n",
       "      <td>2022-01-01T00:10:27</td>\n",
       "      <td>74.47</td>\n",
       "      <td>tablet</td>\n",
       "      <td>California, USA</td>\n",
       "      <td>True</td>\n",
       "      <td>False</td>\n",
       "    </tr>\n",
       "    <tr>\n",
       "      <th>1</th>\n",
       "      <td>U45203</td>\n",
       "      <td>T1B97D873</td>\n",
       "      <td>2022-01-01T00:12:18</td>\n",
       "      <td>420.23</td>\n",
       "      <td>mobile</td>\n",
       "      <td>London, UK</td>\n",
       "      <td>False</td>\n",
       "      <td>False</td>\n",
       "    </tr>\n",
       "    <tr>\n",
       "      <th>2</th>\n",
       "      <td>U26878</td>\n",
       "      <td>T9D67FE01</td>\n",
       "      <td>2022-01-01T00:15:59</td>\n",
       "      <td>288.41</td>\n",
       "      <td>tablet</td>\n",
       "      <td>California, USA</td>\n",
       "      <td>False</td>\n",
       "      <td>False</td>\n",
       "    </tr>\n",
       "    <tr>\n",
       "      <th>3</th>\n",
       "      <td>U98609</td>\n",
       "      <td>T073EBAF8</td>\n",
       "      <td>2022-01-01T00:23:34</td>\n",
       "      <td>981.99</td>\n",
       "      <td>tablet</td>\n",
       "      <td>California, USA</td>\n",
       "      <td>True</td>\n",
       "      <td>False</td>\n",
       "    </tr>\n",
       "    <tr>\n",
       "      <th>4</th>\n",
       "      <td>U90290</td>\n",
       "      <td>T2E2A2FAF</td>\n",
       "      <td>2022-01-01T00:29:52</td>\n",
       "      <td>372.75</td>\n",
       "      <td>mobile</td>\n",
       "      <td>New York, USA</td>\n",
       "      <td>False</td>\n",
       "      <td>False</td>\n",
       "    </tr>\n",
       "  </tbody>\n",
       "</table>\n",
       "</div>"
      ],
      "text/plain": [
       "  user_id transaction_id            timestamp  amount device_type  \\\n",
       "0  U47935      T97D7AE2A  2022-01-01T00:10:27   74.47      tablet   \n",
       "1  U45203      T1B97D873  2022-01-01T00:12:18  420.23      mobile   \n",
       "2  U26878      T9D67FE01  2022-01-01T00:15:59  288.41      tablet   \n",
       "3  U98609      T073EBAF8  2022-01-01T00:23:34  981.99      tablet   \n",
       "4  U90290      T2E2A2FAF  2022-01-01T00:29:52  372.75      mobile   \n",
       "\n",
       "          location  is_vpn  fraud  \n",
       "0  California, USA    True  False  \n",
       "1       London, UK   False  False  \n",
       "2  California, USA   False  False  \n",
       "3  California, USA    True  False  \n",
       "4    New York, USA   False  False  "
      ]
     },
     "execution_count": 2,
     "metadata": {},
     "output_type": "execute_result"
    }
   ],
   "source": [
    "path = \"dummy_historic_data.csv\"\n",
    "data = pd.read_csv(path)\n",
    "data.head()"
   ]
  },
  {
   "cell_type": "code",
   "execution_count": 3,
   "id": "40a4c093-b0d3-4709-9720-6c9e655ea0d1",
   "metadata": {},
   "outputs": [
    {
     "name": "stdout",
     "output_type": "stream",
     "text": [
      "total users in the dataset  60348\n",
      "row count 1439501\n"
     ]
    }
   ],
   "source": [
    "print(\"total users in the dataset \", len(data['user_id'].unique()))\n",
    "print(\"row count\", len(data.index))"
   ]
  },
  {
   "cell_type": "code",
   "execution_count": 4,
   "id": "2877b2bb-bb37-4a47-a0d3-a7087fa572ca",
   "metadata": {},
   "outputs": [
    {
     "data": {
      "text/html": [
       "<div>\n",
       "<style scoped>\n",
       "    .dataframe tbody tr th:only-of-type {\n",
       "        vertical-align: middle;\n",
       "    }\n",
       "\n",
       "    .dataframe tbody tr th {\n",
       "        vertical-align: top;\n",
       "    }\n",
       "\n",
       "    .dataframe thead th {\n",
       "        text-align: right;\n",
       "    }\n",
       "</style>\n",
       "<table border=\"1\" class=\"dataframe\">\n",
       "  <thead>\n",
       "    <tr style=\"text-align: right;\">\n",
       "      <th></th>\n",
       "      <th>user_id</th>\n",
       "      <th>transaction_id</th>\n",
       "    </tr>\n",
       "  </thead>\n",
       "  <tbody>\n",
       "    <tr>\n",
       "      <th>36301</th>\n",
       "      <td>U64183</td>\n",
       "      <td>204</td>\n",
       "    </tr>\n",
       "    <tr>\n",
       "      <th>10334</th>\n",
       "      <td>U25416</td>\n",
       "      <td>194</td>\n",
       "    </tr>\n",
       "    <tr>\n",
       "      <th>56933</th>\n",
       "      <td>U94942</td>\n",
       "      <td>193</td>\n",
       "    </tr>\n",
       "    <tr>\n",
       "      <th>16640</th>\n",
       "      <td>U34913</td>\n",
       "      <td>186</td>\n",
       "    </tr>\n",
       "    <tr>\n",
       "      <th>41420</th>\n",
       "      <td>U71838</td>\n",
       "      <td>171</td>\n",
       "    </tr>\n",
       "    <tr>\n",
       "      <th>...</th>\n",
       "      <td>...</td>\n",
       "      <td>...</td>\n",
       "    </tr>\n",
       "    <tr>\n",
       "      <th>60340</th>\n",
       "      <td>U99991</td>\n",
       "      <td>1</td>\n",
       "    </tr>\n",
       "    <tr>\n",
       "      <th>60317</th>\n",
       "      <td>U99953</td>\n",
       "      <td>1</td>\n",
       "    </tr>\n",
       "    <tr>\n",
       "      <th>60315</th>\n",
       "      <td>U99950</td>\n",
       "      <td>1</td>\n",
       "    </tr>\n",
       "    <tr>\n",
       "      <th>60312</th>\n",
       "      <td>U99944</td>\n",
       "      <td>1</td>\n",
       "    </tr>\n",
       "    <tr>\n",
       "      <th>60330</th>\n",
       "      <td>U99976</td>\n",
       "      <td>1</td>\n",
       "    </tr>\n",
       "  </tbody>\n",
       "</table>\n",
       "<p>60348 rows × 2 columns</p>\n",
       "</div>"
      ],
      "text/plain": [
       "      user_id  transaction_id\n",
       "36301  U64183             204\n",
       "10334  U25416             194\n",
       "56933  U94942             193\n",
       "16640  U34913             186\n",
       "41420  U71838             171\n",
       "...       ...             ...\n",
       "60340  U99991               1\n",
       "60317  U99953               1\n",
       "60315  U99950               1\n",
       "60312  U99944               1\n",
       "60330  U99976               1\n",
       "\n",
       "[60348 rows x 2 columns]"
      ]
     },
     "execution_count": 4,
     "metadata": {},
     "output_type": "execute_result"
    }
   ],
   "source": [
    "data.groupby(\"user_id\", as_index=False) \\\n",
    "    .agg({\"transaction_id\": \"count\"}) \\\n",
    "    .sort_values(by=\"transaction_id\", ascending=False)\n"
   ]
  },
  {
   "cell_type": "code",
   "execution_count": 6,
   "id": "32bfc105-924e-4483-b388-1bd8d70d6dbf",
   "metadata": {},
   "outputs": [
    {
     "data": {
      "text/plain": [
       "fraud\n",
       "False    1410722\n",
       "True       28779\n",
       "Name: count, dtype: int64"
      ]
     },
     "execution_count": 6,
     "metadata": {},
     "output_type": "execute_result"
    }
   ],
   "source": [
    "data['fraud'].value_counts()"
   ]
  },
  {
   "cell_type": "code",
   "execution_count": 7,
   "id": "42caa797-80df-45eb-be53-cd09edf3b404",
   "metadata": {},
   "outputs": [
    {
     "data": {
      "text/html": [
       "<div>\n",
       "<style scoped>\n",
       "    .dataframe tbody tr th:only-of-type {\n",
       "        vertical-align: middle;\n",
       "    }\n",
       "\n",
       "    .dataframe tbody tr th {\n",
       "        vertical-align: top;\n",
       "    }\n",
       "\n",
       "    .dataframe thead th {\n",
       "        text-align: right;\n",
       "    }\n",
       "</style>\n",
       "<table border=\"1\" class=\"dataframe\">\n",
       "  <thead>\n",
       "    <tr style=\"text-align: right;\">\n",
       "      <th></th>\n",
       "      <th>count</th>\n",
       "      <th>mean</th>\n",
       "      <th>std</th>\n",
       "      <th>min</th>\n",
       "      <th>25%</th>\n",
       "      <th>50%</th>\n",
       "      <th>75%</th>\n",
       "      <th>max</th>\n",
       "    </tr>\n",
       "    <tr>\n",
       "      <th>fraud</th>\n",
       "      <th></th>\n",
       "      <th></th>\n",
       "      <th></th>\n",
       "      <th></th>\n",
       "      <th></th>\n",
       "      <th></th>\n",
       "      <th></th>\n",
       "      <th></th>\n",
       "    </tr>\n",
       "  </thead>\n",
       "  <tbody>\n",
       "    <tr>\n",
       "      <th>False</th>\n",
       "      <td>1410722.0</td>\n",
       "      <td>500.596636</td>\n",
       "      <td>288.486393</td>\n",
       "      <td>1.00</td>\n",
       "      <td>250.440</td>\n",
       "      <td>501.14</td>\n",
       "      <td>750.190</td>\n",
       "      <td>1000.00</td>\n",
       "    </tr>\n",
       "    <tr>\n",
       "      <th>True</th>\n",
       "      <td>28779.0</td>\n",
       "      <td>502.323139</td>\n",
       "      <td>288.313929</td>\n",
       "      <td>1.03</td>\n",
       "      <td>249.965</td>\n",
       "      <td>505.92</td>\n",
       "      <td>750.995</td>\n",
       "      <td>999.99</td>\n",
       "    </tr>\n",
       "  </tbody>\n",
       "</table>\n",
       "</div>"
      ],
      "text/plain": [
       "           count        mean         std   min      25%     50%      75%  \\\n",
       "fraud                                                                      \n",
       "False  1410722.0  500.596636  288.486393  1.00  250.440  501.14  750.190   \n",
       "True     28779.0  502.323139  288.313929  1.03  249.965  505.92  750.995   \n",
       "\n",
       "           max  \n",
       "fraud           \n",
       "False  1000.00  \n",
       "True    999.99  "
      ]
     },
     "execution_count": 7,
     "metadata": {},
     "output_type": "execute_result"
    }
   ],
   "source": [
    "data.groupby(by=\"fraud\")['amount'].describe()"
   ]
  },
  {
   "cell_type": "code",
   "execution_count": 8,
   "id": "8c59265e-596d-419d-8501-ff9f88e99b42",
   "metadata": {},
   "outputs": [
    {
     "data": {
      "text/html": [
       "<div>\n",
       "<style scoped>\n",
       "    .dataframe tbody tr th:only-of-type {\n",
       "        vertical-align: middle;\n",
       "    }\n",
       "\n",
       "    .dataframe tbody tr th {\n",
       "        vertical-align: top;\n",
       "    }\n",
       "\n",
       "    .dataframe thead th {\n",
       "        text-align: right;\n",
       "    }\n",
       "</style>\n",
       "<table border=\"1\" class=\"dataframe\">\n",
       "  <thead>\n",
       "    <tr style=\"text-align: right;\">\n",
       "      <th></th>\n",
       "      <th>count</th>\n",
       "      <th>unique</th>\n",
       "      <th>top</th>\n",
       "      <th>freq</th>\n",
       "    </tr>\n",
       "    <tr>\n",
       "      <th>fraud</th>\n",
       "      <th></th>\n",
       "      <th></th>\n",
       "      <th></th>\n",
       "      <th></th>\n",
       "    </tr>\n",
       "  </thead>\n",
       "  <tbody>\n",
       "    <tr>\n",
       "      <th>False</th>\n",
       "      <td>1410722</td>\n",
       "      <td>3</td>\n",
       "      <td>desktop</td>\n",
       "      <td>470714</td>\n",
       "    </tr>\n",
       "    <tr>\n",
       "      <th>True</th>\n",
       "      <td>28779</td>\n",
       "      <td>3</td>\n",
       "      <td>mobile</td>\n",
       "      <td>9694</td>\n",
       "    </tr>\n",
       "  </tbody>\n",
       "</table>\n",
       "</div>"
      ],
      "text/plain": [
       "         count unique      top    freq\n",
       "fraud                                 \n",
       "False  1410722      3  desktop  470714\n",
       "True     28779      3   mobile    9694"
      ]
     },
     "execution_count": 8,
     "metadata": {},
     "output_type": "execute_result"
    }
   ],
   "source": [
    "data.groupby(by=\"fraud\")['device_type'].describe()"
   ]
  },
  {
   "cell_type": "code",
   "execution_count": 9,
   "id": "19d6894b-b3ae-4c07-b505-27c030d9cc98",
   "metadata": {},
   "outputs": [
    {
     "data": {
      "text/html": [
       "<div>\n",
       "<style scoped>\n",
       "    .dataframe tbody tr th:only-of-type {\n",
       "        vertical-align: middle;\n",
       "    }\n",
       "\n",
       "    .dataframe tbody tr th {\n",
       "        vertical-align: top;\n",
       "    }\n",
       "\n",
       "    .dataframe thead th {\n",
       "        text-align: right;\n",
       "    }\n",
       "</style>\n",
       "<table border=\"1\" class=\"dataframe\">\n",
       "  <thead>\n",
       "    <tr style=\"text-align: right;\">\n",
       "      <th></th>\n",
       "      <th>count</th>\n",
       "      <th>unique</th>\n",
       "      <th>top</th>\n",
       "      <th>freq</th>\n",
       "    </tr>\n",
       "    <tr>\n",
       "      <th>fraud</th>\n",
       "      <th></th>\n",
       "      <th></th>\n",
       "      <th></th>\n",
       "      <th></th>\n",
       "    </tr>\n",
       "  </thead>\n",
       "  <tbody>\n",
       "    <tr>\n",
       "      <th>False</th>\n",
       "      <td>1410722</td>\n",
       "      <td>2</td>\n",
       "      <td>True</td>\n",
       "      <td>706243</td>\n",
       "    </tr>\n",
       "    <tr>\n",
       "      <th>True</th>\n",
       "      <td>28779</td>\n",
       "      <td>2</td>\n",
       "      <td>True</td>\n",
       "      <td>14498</td>\n",
       "    </tr>\n",
       "  </tbody>\n",
       "</table>\n",
       "</div>"
      ],
      "text/plain": [
       "         count unique   top    freq\n",
       "fraud                              \n",
       "False  1410722      2  True  706243\n",
       "True     28779      2  True   14498"
      ]
     },
     "execution_count": 9,
     "metadata": {},
     "output_type": "execute_result"
    }
   ],
   "source": [
    "data.groupby(by=\"fraud\")['is_vpn'].describe()"
   ]
  },
  {
   "cell_type": "code",
   "execution_count": 10,
   "id": "42e03b86-3d8e-4d9c-ad96-7cfd368b1cd7",
   "metadata": {},
   "outputs": [
    {
     "data": {
      "text/html": [
       "<div>\n",
       "<style scoped>\n",
       "    .dataframe tbody tr th:only-of-type {\n",
       "        vertical-align: middle;\n",
       "    }\n",
       "\n",
       "    .dataframe tbody tr th {\n",
       "        vertical-align: top;\n",
       "    }\n",
       "\n",
       "    .dataframe thead th {\n",
       "        text-align: right;\n",
       "    }\n",
       "</style>\n",
       "<table border=\"1\" class=\"dataframe\">\n",
       "  <thead>\n",
       "    <tr style=\"text-align: right;\">\n",
       "      <th></th>\n",
       "      <th>count</th>\n",
       "      <th>unique</th>\n",
       "      <th>top</th>\n",
       "      <th>freq</th>\n",
       "    </tr>\n",
       "    <tr>\n",
       "      <th>fraud</th>\n",
       "      <th></th>\n",
       "      <th></th>\n",
       "      <th></th>\n",
       "      <th></th>\n",
       "    </tr>\n",
       "  </thead>\n",
       "  <tbody>\n",
       "    <tr>\n",
       "      <th>False</th>\n",
       "      <td>1410722</td>\n",
       "      <td>7</td>\n",
       "      <td>London, UK</td>\n",
       "      <td>202020</td>\n",
       "    </tr>\n",
       "    <tr>\n",
       "      <th>True</th>\n",
       "      <td>28779</td>\n",
       "      <td>7</td>\n",
       "      <td>Texas, USA</td>\n",
       "      <td>4180</td>\n",
       "    </tr>\n",
       "  </tbody>\n",
       "</table>\n",
       "</div>"
      ],
      "text/plain": [
       "         count unique         top    freq\n",
       "fraud                                    \n",
       "False  1410722      7  London, UK  202020\n",
       "True     28779      7  Texas, USA    4180"
      ]
     },
     "execution_count": 10,
     "metadata": {},
     "output_type": "execute_result"
    }
   ],
   "source": [
    "data.groupby(by=\"fraud\")['location'].describe()"
   ]
  },
  {
   "cell_type": "code",
   "execution_count": 13,
   "id": "5b87ec5f-1e22-499a-83a5-1a64784972c2",
   "metadata": {},
   "outputs": [
    {
     "data": {
      "text/html": [
       "<div>\n",
       "<style scoped>\n",
       "    .dataframe tbody tr th:only-of-type {\n",
       "        vertical-align: middle;\n",
       "    }\n",
       "\n",
       "    .dataframe tbody tr th {\n",
       "        vertical-align: top;\n",
       "    }\n",
       "\n",
       "    .dataframe thead th {\n",
       "        text-align: right;\n",
       "    }\n",
       "</style>\n",
       "<table border=\"1\" class=\"dataframe\">\n",
       "  <thead>\n",
       "    <tr style=\"text-align: right;\">\n",
       "      <th></th>\n",
       "      <th>location</th>\n",
       "      <th>fraud</th>\n",
       "      <th>transaction_id</th>\n",
       "    </tr>\n",
       "  </thead>\n",
       "  <tbody>\n",
       "    <tr>\n",
       "      <th>0</th>\n",
       "      <td>Berlin, Germany</td>\n",
       "      <td>False</td>\n",
       "      <td>201040</td>\n",
       "    </tr>\n",
       "    <tr>\n",
       "      <th>1</th>\n",
       "      <td>Berlin, Germany</td>\n",
       "      <td>True</td>\n",
       "      <td>4072</td>\n",
       "    </tr>\n",
       "    <tr>\n",
       "      <th>2</th>\n",
       "      <td>California, USA</td>\n",
       "      <td>False</td>\n",
       "      <td>201725</td>\n",
       "    </tr>\n",
       "    <tr>\n",
       "      <th>3</th>\n",
       "      <td>California, USA</td>\n",
       "      <td>True</td>\n",
       "      <td>4113</td>\n",
       "    </tr>\n",
       "    <tr>\n",
       "      <th>4</th>\n",
       "      <td>London, UK</td>\n",
       "      <td>False</td>\n",
       "      <td>202020</td>\n",
       "    </tr>\n",
       "    <tr>\n",
       "      <th>5</th>\n",
       "      <td>London, UK</td>\n",
       "      <td>True</td>\n",
       "      <td>4082</td>\n",
       "    </tr>\n",
       "    <tr>\n",
       "      <th>6</th>\n",
       "      <td>New York, USA</td>\n",
       "      <td>False</td>\n",
       "      <td>201734</td>\n",
       "    </tr>\n",
       "    <tr>\n",
       "      <th>7</th>\n",
       "      <td>New York, USA</td>\n",
       "      <td>True</td>\n",
       "      <td>4016</td>\n",
       "    </tr>\n",
       "    <tr>\n",
       "      <th>8</th>\n",
       "      <td>Ontario, Canada</td>\n",
       "      <td>False</td>\n",
       "      <td>201697</td>\n",
       "    </tr>\n",
       "    <tr>\n",
       "      <th>9</th>\n",
       "      <td>Ontario, Canada</td>\n",
       "      <td>True</td>\n",
       "      <td>4154</td>\n",
       "    </tr>\n",
       "    <tr>\n",
       "      <th>10</th>\n",
       "      <td>Texas, USA</td>\n",
       "      <td>False</td>\n",
       "      <td>201192</td>\n",
       "    </tr>\n",
       "    <tr>\n",
       "      <th>11</th>\n",
       "      <td>Texas, USA</td>\n",
       "      <td>True</td>\n",
       "      <td>4180</td>\n",
       "    </tr>\n",
       "    <tr>\n",
       "      <th>12</th>\n",
       "      <td>Tokyo, Japan</td>\n",
       "      <td>False</td>\n",
       "      <td>201314</td>\n",
       "    </tr>\n",
       "    <tr>\n",
       "      <th>13</th>\n",
       "      <td>Tokyo, Japan</td>\n",
       "      <td>True</td>\n",
       "      <td>4162</td>\n",
       "    </tr>\n",
       "  </tbody>\n",
       "</table>\n",
       "</div>"
      ],
      "text/plain": [
       "           location  fraud  transaction_id\n",
       "0   Berlin, Germany  False          201040\n",
       "1   Berlin, Germany   True            4072\n",
       "2   California, USA  False          201725\n",
       "3   California, USA   True            4113\n",
       "4        London, UK  False          202020\n",
       "5        London, UK   True            4082\n",
       "6     New York, USA  False          201734\n",
       "7     New York, USA   True            4016\n",
       "8   Ontario, Canada  False          201697\n",
       "9   Ontario, Canada   True            4154\n",
       "10       Texas, USA  False          201192\n",
       "11       Texas, USA   True            4180\n",
       "12     Tokyo, Japan  False          201314\n",
       "13     Tokyo, Japan   True            4162"
      ]
     },
     "execution_count": 13,
     "metadata": {},
     "output_type": "execute_result"
    }
   ],
   "source": [
    "data.groupby(by=[\"location\", \"fraud\"], as_index=False)['transaction_id'].count()"
   ]
  },
  {
   "cell_type": "markdown",
   "id": "06818332-cc57-469f-9dae-3408eba6f8f9",
   "metadata": {},
   "source": [
    "Since this is just randomly generated data there is no pattern here, the data is fairly distributed thanks to `random.choice` function and due to lack of time I am not going to try to create another generation function to do anything, lets build a basic model"
   ]
  },
  {
   "cell_type": "code",
   "execution_count": 28,
   "id": "5ac828a5-e18f-48c1-9738-588e6ccb8da8",
   "metadata": {},
   "outputs": [
    {
     "data": {
      "text/plain": [
       "date\n",
       "2022-01-01     134\n",
       "2022-01-02     150\n",
       "2022-01-03     126\n",
       "2022-01-04     123\n",
       "2022-01-05     142\n",
       "              ... \n",
       "2023-12-27    3758\n",
       "2023-12-28    3788\n",
       "2023-12-29    3810\n",
       "2023-12-30    3766\n",
       "2023-12-31     129\n",
       "Name: transaction_id, Length: 730, dtype: int64"
      ]
     },
     "execution_count": 28,
     "metadata": {},
     "output_type": "execute_result"
    }
   ],
   "source": [
    "data[\"date\"] = pd.to_datetime(data[\"timestamp\"]).dt.date\n",
    "transaction_per_day = data.groupby(by=\"date\")['transaction_id'].count()\n",
    "transaction_per_day"
   ]
  },
  {
   "cell_type": "code",
   "execution_count": 29,
   "id": "b3e8a058-c149-4e43-83ab-864bded1689c",
   "metadata": {},
   "outputs": [
    {
     "data": {
      "text/plain": [
       "<Axes: xlabel='date'>"
      ]
     },
     "execution_count": 29,
     "metadata": {},
     "output_type": "execute_result"
    },
    {
     "data": {
      "image/png": "[encoded data removed]",
      "text/plain": [
       "<Figure size 640x480 with 1 Axes>"
      ]
     },
     "metadata": {},
     "output_type": "display_data"
    }
   ],
   "source": [
    "transaction_per_day.plot(kind='bar')"
   ]
  },
  {
   "cell_type": "markdown",
   "id": "4e7a0e28-91a5-446d-b66e-67164ae8ffd6",
   "metadata": {},
   "source": [
    "##### The data is increasing over time thanks to the data generation but what we really need to figure out how much data is there weekly so that we can figure out how to split it up"
   ]
  },
  {
   "cell_type": "code",
   "execution_count": 35,
   "id": "47a99ad7-da6a-496b-8150-87cf97a6f4df",
   "metadata": {},
   "outputs": [],
   "source": [
    "data['timestamp'] = pd.to_datetime(data['timestamp'])\n",
    "data['week'] = data['timestamp'].dt.to_period('W')\n",
    "data['month'] = data['timestamp'].dt.to_period('M')\n",
    "\n",
    "weekly_counts = (\n",
    "    data.groupby('week')['transaction_id']\n",
    "      .count()\n",
    ")\n",
    "\n",
    "monthly_counts = (\n",
    "    data.groupby('month')['transaction_id']\n",
    "      .count()\n",
    ")\n",
    "\n"
   ]
  },
  {
   "cell_type": "code",
   "execution_count": 37,
   "id": "b0116559-72f0-4672-b80e-55399f43836f",
   "metadata": {},
   "outputs": [
    {
     "data": {
      "text/plain": [
       "<Axes: xlabel='week'>"
      ]
     },
     "execution_count": 37,
     "metadata": {},
     "output_type": "execute_result"
    },
    {
     "data": {
      "image/png": "[encoded data removed]",
      "text/plain": [
       "<Figure size 640x480 with 1 Axes>"
      ]
     },
     "metadata": {},
     "output_type": "display_data"
    }
   ],
   "source": [
    "weekly_counts.plot(kind='bar')"
   ]
  },
  {
   "cell_type": "code",
   "execution_count": 38,
   "id": "49587df7-7d3b-4d90-8698-ff60c72a928b",
   "metadata": {},
   "outputs": [
    {
     "data": {
      "text/plain": [
       "<Axes: xlabel='month'>"
      ]
     },
     "execution_count": 38,
     "metadata": {},
     "output_type": "execute_result"
    },
    {
     "data": {
      "image/png": "[encoded data removed]",
      "text/plain": [
       "<Figure size 640x480 with 1 Axes>"
      ]
     },
     "metadata": {},
     "output_type": "display_data"
    }
   ],
   "source": [
    "monthly_counts.plot(kind='bar')"
   ]
  },
  {
   "cell_type": "markdown",
   "id": "890ef42a-384f-4310-bed4-10d68179c026",
   "metadata": {},
   "source": [
    "We can work with last 4 months of data, using 2 weeks to train, 2 weeks to validate and 2 weeks to test and do it 3 fold"
   ]
  },
  {
   "cell_type": "code",
   "execution_count": null,
   "id": "7c6efeed-5ad7-43e6-bbbc-732f5e0f2e90",
   "metadata": {},
   "outputs": [],
   "source": []
  }
 ],
 "metadata": {
  "kernelspec": {
   "display_name": "fraud",
   "language": "python",
   "name": "fraud"
  },
  "language_info": {
   "codemirror_mode": {
    "name": "ipython",
    "version": 3
   },
   "file_extension": ".py",
   "mimetype": "text/x-python",
   "name": "python",
   "nbconvert_exporter": "python",
   "pygments_lexer": "ipython3",
   "version": "3.11.11"
  }
 },
 "nbformat": 4,
 "nbformat_minor": 5
}
